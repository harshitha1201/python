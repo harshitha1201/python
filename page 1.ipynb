{
 "cells": [
  {
   "cell_type": "code",
   "execution_count": 8,
   "id": "734e7159",
   "metadata": {},
   "outputs": [],
   "source": [
    "# single line comment"
   ]
  },
  {
   "cell_type": "code",
   "execution_count": 9,
   "id": "f4868b55",
   "metadata": {},
   "outputs": [
    {
     "name": "stdout",
     "output_type": "stream",
     "text": [
      "Hello, World!\n"
     ]
    }
   ],
   "source": [
    "\"\"\"\n",
    "This is a comment\n",
    "written in\n",
    "more than just one line\n",
    "\"\"\"\n",
    "print(\"Hello, World!\") \n"
   ]
  },
  {
   "cell_type": "code",
   "execution_count": 10,
   "id": "5c23d013",
   "metadata": {},
   "outputs": [
    {
     "data": {
      "text/plain": [
       "10"
      ]
     },
     "execution_count": 10,
     "metadata": {},
     "output_type": "execute_result"
    }
   ],
   "source": [
    "a=10\n",
    "a"
   ]
  },
  {
   "cell_type": "code",
   "execution_count": 11,
   "id": "d5680c3f",
   "metadata": {},
   "outputs": [
    {
     "data": {
      "text/plain": [
       "int"
      ]
     },
     "execution_count": 11,
     "metadata": {},
     "output_type": "execute_result"
    }
   ],
   "source": [
    "type(a)"
   ]
  },
  {
   "cell_type": "code",
   "execution_count": 13,
   "id": "47edf1c3",
   "metadata": {},
   "outputs": [
    {
     "data": {
      "text/plain": [
       "str"
      ]
     },
     "execution_count": 13,
     "metadata": {},
     "output_type": "execute_result"
    }
   ],
   "source": [
    "b=\"harsha22\"\n",
    "type(b)"
   ]
  },
  {
   "cell_type": "code",
   "execution_count": 14,
   "id": "5059ef87",
   "metadata": {},
   "outputs": [
    {
     "name": "stdout",
     "output_type": "stream",
     "text": [
      "10 harsha22 99 hello\n"
     ]
    }
   ],
   "source": [
    "print(a,b,99,\"hello\")"
   ]
  },
  {
   "cell_type": "code",
   "execution_count": 15,
   "id": "e9a77062",
   "metadata": {},
   "outputs": [],
   "source": [
    "a,b,c= 90,\"hello\",\"hi\""
   ]
  },
  {
   "cell_type": "code",
   "execution_count": 18,
   "id": "c33dc9fe",
   "metadata": {},
   "outputs": [
    {
     "data": {
      "text/plain": [
       "(90, 'hello', 'hi')"
      ]
     },
     "execution_count": 18,
     "metadata": {},
     "output_type": "execute_result"
    }
   ],
   "source": [
    "a,b,c\n",
    "# tuple"
   ]
  },
  {
   "cell_type": "code",
   "execution_count": 19,
   "id": "ce8555c3",
   "metadata": {},
   "outputs": [
    {
     "ename": "SyntaxError",
     "evalue": "invalid decimal literal (1890832609.py, line 1)",
     "output_type": "error",
     "traceback": [
      "\u001b[1;36m  Cell \u001b[1;32mIn[19], line 1\u001b[1;36m\u001b[0m\n\u001b[1;33m    2b=55\u001b[0m\n\u001b[1;37m    ^\u001b[0m\n\u001b[1;31mSyntaxError\u001b[0m\u001b[1;31m:\u001b[0m invalid decimal literal\n"
     ]
    }
   ],
   "source": [
    "2b=55"
   ]
  },
  {
   "cell_type": "code",
   "execution_count": 20,
   "id": "93f6ffe1",
   "metadata": {},
   "outputs": [
    {
     "ename": "SyntaxError",
     "evalue": "invalid syntax. Maybe you meant '==' or ':=' instead of '='? (491599634.py, line 1)",
     "output_type": "error",
     "traceback": [
      "\u001b[1;36m  Cell \u001b[1;32mIn[20], line 1\u001b[1;36m\u001b[0m\n\u001b[1;33m    @b=55\u001b[0m\n\u001b[1;37m     ^\u001b[0m\n\u001b[1;31mSyntaxError\u001b[0m\u001b[1;31m:\u001b[0m invalid syntax. Maybe you meant '==' or ':=' instead of '='?\n"
     ]
    }
   ],
   "source": [
    "@b=55"
   ]
  },
  {
   "cell_type": "code",
   "execution_count": 21,
   "id": "a8c811d5",
   "metadata": {},
   "outputs": [],
   "source": [
    "_b=55"
   ]
  },
  {
   "cell_type": "code",
   "execution_count": 22,
   "id": "bab88bd4",
   "metadata": {},
   "outputs": [
    {
     "data": {
      "text/plain": [
       "55"
      ]
     },
     "execution_count": 22,
     "metadata": {},
     "output_type": "execute_result"
    }
   ],
   "source": [
    "_b"
   ]
  },
  {
   "cell_type": "code",
   "execution_count": 23,
   "id": "5a3d8454",
   "metadata": {},
   "outputs": [
    {
     "data": {
      "text/plain": [
       "float"
      ]
     },
     "execution_count": 23,
     "metadata": {},
     "output_type": "execute_result"
    }
   ],
   "source": [
    "a=1.6\n",
    "# dynamic typing\n",
    "type(a)"
   ]
  },
  {
   "cell_type": "code",
   "execution_count": 24,
   "id": "fcd6d96f",
   "metadata": {},
   "outputs": [
    {
     "data": {
      "text/plain": [
       "bool"
      ]
     },
     "execution_count": 24,
     "metadata": {},
     "output_type": "execute_result"
    }
   ],
   "source": [
    "a=True\n",
    "type(a)"
   ]
  },
  {
   "cell_type": "code",
   "execution_count": 27,
   "id": "4a2c29eb",
   "metadata": {},
   "outputs": [
    {
     "name": "stdout",
     "output_type": "stream",
     "text": [
      "2\n"
     ]
    }
   ],
   "source": [
    "print(True + True + True + False - True)\n",
    "# 1 + 1 + 1 + 0 - 1"
   ]
  },
  {
   "cell_type": "code",
   "execution_count": 28,
   "id": "9425316f",
   "metadata": {},
   "outputs": [
    {
     "ename": "ZeroDivisionError",
     "evalue": "division by zero",
     "output_type": "error",
     "traceback": [
      "\u001b[1;31m---------------------------------------------------------------------------\u001b[0m",
      "\u001b[1;31mZeroDivisionError\u001b[0m                         Traceback (most recent call last)",
      "Cell \u001b[1;32mIn[28], line 1\u001b[0m\n\u001b[1;32m----> 1\u001b[0m \u001b[38;5;28;01mTrue\u001b[39;00m\u001b[38;5;241m/\u001b[39m\u001b[38;5;28;01mFalse\u001b[39;00m\n",
      "\u001b[1;31mZeroDivisionError\u001b[0m: division by zero"
     ]
    }
   ],
   "source": [
    "True/False"
   ]
  },
  {
   "cell_type": "code",
   "execution_count": 30,
   "id": "1fe74598",
   "metadata": {},
   "outputs": [
    {
     "data": {
      "text/plain": [
       "complex"
      ]
     },
     "execution_count": 30,
     "metadata": {},
     "output_type": "execute_result"
    }
   ],
   "source": [
    "a=7+3j\n",
    "type(a)"
   ]
  },
  {
   "cell_type": "code",
   "execution_count": 31,
   "id": "1b5c4c04",
   "metadata": {},
   "outputs": [
    {
     "data": {
      "text/plain": [
       "7.0"
      ]
     },
     "execution_count": 31,
     "metadata": {},
     "output_type": "execute_result"
    }
   ],
   "source": [
    "a.real"
   ]
  },
  {
   "cell_type": "code",
   "execution_count": 32,
   "id": "78caf4e2",
   "metadata": {},
   "outputs": [
    {
     "data": {
      "text/plain": [
       "3.0"
      ]
     },
     "execution_count": 32,
     "metadata": {},
     "output_type": "execute_result"
    }
   ],
   "source": [
    "a.imag"
   ]
  },
  {
   "cell_type": "code",
   "execution_count": 34,
   "id": "612d178d",
   "metadata": {},
   "outputs": [
    {
     "data": {
      "text/plain": [
       "(14+6j)"
      ]
     },
     "execution_count": 34,
     "metadata": {},
     "output_type": "execute_result"
    }
   ],
   "source": [
    "b=2\n",
    "a*b"
   ]
  },
  {
   "cell_type": "code",
   "execution_count": 35,
   "id": "5ed5d242",
   "metadata": {},
   "outputs": [
    {
     "data": {
      "text/plain": [
       "(2+34j)"
      ]
     },
     "execution_count": 35,
     "metadata": {},
     "output_type": "execute_result"
    }
   ],
   "source": [
    "c=2+4j\n",
    "a*c"
   ]
  },
  {
   "cell_type": "code",
   "execution_count": 36,
   "id": "f55c11e8",
   "metadata": {},
   "outputs": [
    {
     "ename": "TypeError",
     "evalue": "unsupported operand type(s) for +: 'int' and 'str'",
     "output_type": "error",
     "traceback": [
      "\u001b[1;31m---------------------------------------------------------------------------\u001b[0m",
      "\u001b[1;31mTypeError\u001b[0m                                 Traceback (most recent call last)",
      "Cell \u001b[1;32mIn[36], line 1\u001b[0m\n\u001b[1;32m----> 1\u001b[0m \u001b[38;5;241m1\u001b[39m\u001b[38;5;241m+\u001b[39m\u001b[38;5;124m\"\u001b[39m\u001b[38;5;124mharsha\u001b[39m\u001b[38;5;124m\"\u001b[39m\n",
      "\u001b[1;31mTypeError\u001b[0m: unsupported operand type(s) for +: 'int' and 'str'"
     ]
    }
   ],
   "source": [
    "1+\"harsha\""
   ]
  },
  {
   "cell_type": "code",
   "execution_count": 37,
   "id": "1c00b5b3",
   "metadata": {},
   "outputs": [
    {
     "data": {
      "text/plain": [
       "'1harsha'"
      ]
     },
     "execution_count": 37,
     "metadata": {},
     "output_type": "execute_result"
    }
   ],
   "source": [
    "str(1)+\"harsha\"\n",
    "# type casting"
   ]
  },
  {
   "cell_type": "code",
   "execution_count": 38,
   "id": "33432c57",
   "metadata": {},
   "outputs": [
    {
     "data": {
      "text/plain": [
       "'1harsha'"
      ]
     },
     "execution_count": 38,
     "metadata": {},
     "output_type": "execute_result"
    }
   ],
   "source": [
    "'1'+\"harsha\"\n",
    "# strong typing"
   ]
  },
  {
   "cell_type": "code",
   "execution_count": 39,
   "id": "a725a312",
   "metadata": {},
   "outputs": [
    {
     "data": {
      "text/plain": [
       "2.0"
      ]
     },
     "execution_count": 39,
     "metadata": {},
     "output_type": "execute_result"
    }
   ],
   "source": [
    "1+1.0\n",
    "# upcasting"
   ]
  },
  {
   "cell_type": "code",
   "execution_count": 1,
   "id": "a7f4f206",
   "metadata": {},
   "outputs": [
    {
     "data": {
      "text/plain": [
       "'harshaharshaharsha'"
      ]
     },
     "execution_count": 1,
     "metadata": {},
     "output_type": "execute_result"
    }
   ],
   "source": [
    "\"harsha\"+\"harsha\"+\"harsha\""
   ]
  },
  {
   "cell_type": "code",
   "execution_count": 2,
   "id": "7ef73299",
   "metadata": {},
   "outputs": [
    {
     "data": {
      "text/plain": [
       "'harshaharshaharsha'"
      ]
     },
     "execution_count": 2,
     "metadata": {},
     "output_type": "execute_result"
    }
   ],
   "source": [
    "\"harsha\"*3"
   ]
  },
  {
   "cell_type": "code",
   "execution_count": 3,
   "id": "3987403c",
   "metadata": {},
   "outputs": [
    {
     "ename": "TypeError",
     "evalue": "unsupported operand type(s) for /: 'str' and 'int'",
     "output_type": "error",
     "traceback": [
      "\u001b[1;31m---------------------------------------------------------------------------\u001b[0m",
      "\u001b[1;31mTypeError\u001b[0m                                 Traceback (most recent call last)",
      "Cell \u001b[1;32mIn[3], line 1\u001b[0m\n\u001b[1;32m----> 1\u001b[0m \u001b[38;5;124m\"\u001b[39m\u001b[38;5;124mharsha\u001b[39m\u001b[38;5;124m\"\u001b[39m\u001b[38;5;241m/\u001b[39m\u001b[38;5;241m3\u001b[39m\n",
      "\u001b[1;31mTypeError\u001b[0m: unsupported operand type(s) for /: 'str' and 'int'"
     ]
    }
   ],
   "source": [
    "\"harsha\"/3"
   ]
  },
  {
   "cell_type": "code",
   "execution_count": 4,
   "id": "38080f45",
   "metadata": {},
   "outputs": [
    {
     "ename": "TypeError",
     "evalue": "unsupported operand type(s) for -: 'str' and 'str'",
     "output_type": "error",
     "traceback": [
      "\u001b[1;31m---------------------------------------------------------------------------\u001b[0m",
      "\u001b[1;31mTypeError\u001b[0m                                 Traceback (most recent call last)",
      "Cell \u001b[1;32mIn[4], line 1\u001b[0m\n\u001b[1;32m----> 1\u001b[0m \u001b[38;5;124m\"\u001b[39m\u001b[38;5;124mharsha\u001b[39m\u001b[38;5;124m\"\u001b[39m\u001b[38;5;241m-\u001b[39m\u001b[38;5;124m\"\u001b[39m\u001b[38;5;124mharsha\u001b[39m\u001b[38;5;124m\"\u001b[39m\n",
      "\u001b[1;31mTypeError\u001b[0m: unsupported operand type(s) for -: 'str' and 'str'"
     ]
    }
   ],
   "source": [
    "\"harsha\"-\"harsha\""
   ]
  },
  {
   "cell_type": "code",
   "execution_count": 5,
   "id": "735f26df",
   "metadata": {},
   "outputs": [
    {
     "data": {
      "text/plain": [
       "23"
      ]
     },
     "execution_count": 5,
     "metadata": {},
     "output_type": "execute_result"
    }
   ],
   "source": [
    "int(\"23\")\n",
    "# type casting - numerical string"
   ]
  },
  {
   "cell_type": "code",
   "execution_count": 6,
   "id": "2f1fab92",
   "metadata": {},
   "outputs": [
    {
     "ename": "ValueError",
     "evalue": "invalid literal for int() with base 10: 'harsha'",
     "output_type": "error",
     "traceback": [
      "\u001b[1;31m---------------------------------------------------------------------------\u001b[0m",
      "\u001b[1;31mValueError\u001b[0m                                Traceback (most recent call last)",
      "Cell \u001b[1;32mIn[6], line 1\u001b[0m\n\u001b[1;32m----> 1\u001b[0m \u001b[38;5;28mint\u001b[39m(\u001b[38;5;124m\"\u001b[39m\u001b[38;5;124mharsha\u001b[39m\u001b[38;5;124m\"\u001b[39m)\n",
      "\u001b[1;31mValueError\u001b[0m: invalid literal for int() with base 10: 'harsha'"
     ]
    }
   ],
   "source": [
    "int(\"harsha\")"
   ]
  },
  {
   "cell_type": "code",
   "execution_count": 7,
   "id": "204848fb",
   "metadata": {},
   "outputs": [
    {
     "name": "stdout",
     "output_type": "stream",
     "text": [
      "hello\n"
     ]
    }
   ],
   "source": [
    "# input from user\n",
    "a=input()"
   ]
  },
  {
   "cell_type": "code",
   "execution_count": 8,
   "id": "f1b40ce5",
   "metadata": {},
   "outputs": [
    {
     "data": {
      "text/plain": [
       "'hello'"
      ]
     },
     "execution_count": 8,
     "metadata": {},
     "output_type": "execute_result"
    }
   ],
   "source": [
    "a"
   ]
  },
  {
   "cell_type": "code",
   "execution_count": 10,
   "id": "5bcd03a7",
   "metadata": {},
   "outputs": [
    {
     "name": "stdout",
     "output_type": "stream",
     "text": [
      "enter something hey\n"
     ]
    }
   ],
   "source": [
    "b=input(\"enter something \")\n",
    "# input function takes input in form of a string"
   ]
  },
  {
   "cell_type": "code",
   "execution_count": 12,
   "id": "2c9e3e87",
   "metadata": {},
   "outputs": [
    {
     "name": "stdout",
     "output_type": "stream",
     "text": [
      "234\n"
     ]
    }
   ],
   "source": [
    "a=input()"
   ]
  },
  {
   "cell_type": "code",
   "execution_count": 13,
   "id": "1c413c3c",
   "metadata": {},
   "outputs": [
    {
     "data": {
      "text/plain": [
       "str"
      ]
     },
     "execution_count": 13,
     "metadata": {},
     "output_type": "execute_result"
    }
   ],
   "source": [
    "type(a)"
   ]
  },
  {
   "cell_type": "code",
   "execution_count": 14,
   "id": "81f96654",
   "metadata": {},
   "outputs": [
    {
     "name": "stdout",
     "output_type": "stream",
     "text": [
      "enter an integer: hey\n"
     ]
    },
    {
     "ename": "ValueError",
     "evalue": "invalid literal for int() with base 10: 'hey'",
     "output_type": "error",
     "traceback": [
      "\u001b[1;31m---------------------------------------------------------------------------\u001b[0m",
      "\u001b[1;31mValueError\u001b[0m                                Traceback (most recent call last)",
      "Cell \u001b[1;32mIn[14], line 2\u001b[0m\n\u001b[0;32m      1\u001b[0m \u001b[38;5;66;03m# question - take only integer input from user\u001b[39;00m\n\u001b[1;32m----> 2\u001b[0m a\u001b[38;5;241m=\u001b[39m\u001b[38;5;28mint\u001b[39m(\u001b[38;5;28minput\u001b[39m(\u001b[38;5;124m\"\u001b[39m\u001b[38;5;124menter an integer: \u001b[39m\u001b[38;5;124m\"\u001b[39m))\n",
      "\u001b[1;31mValueError\u001b[0m: invalid literal for int() with base 10: 'hey'"
     ]
    }
   ],
   "source": [
    "# question - take only integer input from user using input() function\n",
    "a=int(input(\"enter an integer: \"))"
   ]
  },
  {
   "cell_type": "code",
   "execution_count": 15,
   "id": "6054cd75",
   "metadata": {},
   "outputs": [
    {
     "name": "stdout",
     "output_type": "stream",
     "text": [
      "enter an integer: 12\n"
     ]
    }
   ],
   "source": [
    "a=int(input(\"enter an integer: \"))"
   ]
  },
  {
   "cell_type": "code",
   "execution_count": 16,
   "id": "315a0878",
   "metadata": {},
   "outputs": [
    {
     "name": "stdout",
     "output_type": "stream",
     "text": [
      "enter a: 2\n",
      "enter b: 3\n",
      "enter c: 4\n"
     ]
    }
   ],
   "source": [
    "# take integer input- a,b,c \n",
    "# -> do o=(a+b)/c \n",
    "# -> o+ complex variable\n",
    "# -> return o + \"your name\"\n",
    "\n",
    "a,b,c=int(input(\"enter a: \")),int(input(\"enter b: \")),int(input(\"enter c: \"))"
   ]
  },
  {
   "cell_type": "code",
   "execution_count": 24,
   "id": "8d8a84de",
   "metadata": {},
   "outputs": [
    {
     "data": {
      "text/plain": [
       "'(1.25+9j)harsha'"
      ]
     },
     "execution_count": 24,
     "metadata": {},
     "output_type": "execute_result"
    }
   ],
   "source": [
    "o=(a+b)/c\n",
    "p=o+9j\n",
    "str(p)+\"harsha\""
   ]
  },
  {
   "cell_type": "code",
   "execution_count": 1,
   "id": "190f9c1a",
   "metadata": {},
   "outputs": [],
   "source": [
    "a=26\n",
    "if a<34 :\n",
    "    pass"
   ]
  },
  {
   "cell_type": "code",
   "execution_count": 4,
   "id": "6823a330",
   "metadata": {},
   "outputs": [
    {
     "name": "stdout",
     "output_type": "stream",
     "text": [
      "enter your age: 18\n",
      "just 18\n",
      "Done!\n"
     ]
    }
   ],
   "source": [
    "age = int(input(\"enter your age: \"))\n",
    "if age<18 :\n",
    "    print(\"not eligible to vote\")\n",
    "elif age==18 :\n",
    "    print(\"just 18\")\n",
    "else :\n",
    "    print(\"eligible to vote\")\n",
    "print(\"Done!\")"
   ]
  },
  {
   "cell_type": "code",
   "execution_count": 5,
   "id": "5b50ce94",
   "metadata": {
    "scrolled": true
   },
   "outputs": [
    {
     "name": "stdout",
     "output_type": "stream",
     "text": [
      "enter a number: -3\n",
      "negative number\n"
     ]
    }
   ],
   "source": [
    "num = int(input(\"enter a number: \"))\n",
    "if num>=0 :\n",
    "    if num==0 :\n",
    "        print(\"Zero\")\n",
    "    else :\n",
    "        print(\"positive number\")\n",
    "else :\n",
    "    print(\"negative number\")"
   ]
  },
  {
   "cell_type": "code",
   "execution_count": 3,
   "id": "05e83522",
   "metadata": {
    "scrolled": true
   },
   "outputs": [
    {
     "name": "stdout",
     "output_type": "stream",
     "text": [
      "140736544871336\n",
      "140736544871496\n"
     ]
    }
   ],
   "source": [
    "a=5\n",
    "b=10\n",
    "print(id(a))\n",
    "print(id(b))"
   ]
  },
  {
   "cell_type": "code",
   "execution_count": 6,
   "id": "b52ee79a",
   "metadata": {},
   "outputs": [
    {
     "name": "stdout",
     "output_type": "stream",
     "text": [
      "vaild\n"
     ]
    }
   ],
   "source": [
    "a,b=10,20\n",
    "if a==10 and b==20 :\n",
    "    print(\"vaild\")\n"
   ]
  },
  {
   "cell_type": "code",
   "execution_count": 7,
   "id": "e89c5808",
   "metadata": {},
   "outputs": [
    {
     "data": {
      "text/plain": [
       "True"
      ]
     },
     "execution_count": 7,
     "metadata": {},
     "output_type": "execute_result"
    }
   ],
   "source": [
    "a==10"
   ]
  },
  {
   "cell_type": "code",
   "execution_count": 8,
   "id": "8a41302c",
   "metadata": {},
   "outputs": [
    {
     "name": "stdout",
     "output_type": "stream",
     "text": [
      "enter first namme: Harshitha\n",
      "Harshitha\n"
     ]
    }
   ],
   "source": [
    "first_name = input(\"enter first namme: \")\n",
    "if first_name==\"Harshitha\" :\n",
    "    print(first_name)\n",
    "else:\n",
    "    print(\"name entered is not matching\")"
   ]
  },
  {
   "cell_type": "code",
   "execution_count": 10,
   "id": "52ff7237",
   "metadata": {},
   "outputs": [
    {
     "name": "stdout",
     "output_type": "stream",
     "text": [
      "speed is:  0\n",
      "speed is:  1\n",
      "speed is:  2\n",
      "speed is:  3\n",
      "speed is:  4\n",
      "speed is:  5\n",
      "speed is:  6\n",
      "speed is:  7\n",
      "speed is:  8\n",
      "speed is:  9\n"
     ]
    }
   ],
   "source": [
    "initial_speed =0\n",
    "final_speed =10\n",
    "while initial_speed < final_speed :\n",
    "    print(\"speed is: \",initial_speed)\n",
    "    initial_speed= initial_speed +1"
   ]
  },
  {
   "cell_type": "code",
   "execution_count": 3,
   "id": "83432c68",
   "metadata": {},
   "outputs": [
    {
     "name": "stdout",
     "output_type": "stream",
     "text": [
      "speed is:  0\n",
      "speed is:  1\n",
      "speed is:  2\n",
      "speed is:  3\n",
      "speed is:  4\n"
     ]
    }
   ],
   "source": [
    "initial_speed =0\n",
    "final_speed =10\n",
    "count=0\n",
    "while initial_speed < final_speed :\n",
    "    print(\"speed is: \",initial_speed)\n",
    "    initial_speed= initial_speed +1\n",
    "    count = count +1\n",
    "    if count ==5:\n",
    "        break"
   ]
  },
  {
   "cell_type": "code",
   "execution_count": null,
   "id": "66bb33c1",
   "metadata": {},
   "outputs": [],
   "source": []
  }
 ],
 "metadata": {
  "kernelspec": {
   "display_name": "Python 3 (ipykernel)",
   "language": "python",
   "name": "python3"
  },
  "language_info": {
   "codemirror_mode": {
    "name": "ipython",
    "version": 3
   },
   "file_extension": ".py",
   "mimetype": "text/x-python",
   "name": "python",
   "nbconvert_exporter": "python",
   "pygments_lexer": "ipython3",
   "version": "3.11.5"
  }
 },
 "nbformat": 4,
 "nbformat_minor": 5
}
